{
 "cells": [
  {
   "cell_type": "markdown",
   "id": "263b11a1-57e3-4ead-917f-bb40a4ffec87",
   "metadata": {
    "tags": []
   },
   "source": [
    "### To Extract the tables from a PDF file we need to download the library\n",
    "### You can use tabula, There is also a PDF file to use as an example"
   ]
  },
  {
   "cell_type": "code",
   "execution_count": 1,
   "id": "9e338960-87c0-40e8-a671-eac97521a638",
   "metadata": {},
   "outputs": [],
   "source": [
    "# Download the libraries if you don't have them installed\n",
    "# pip3 install tabula-py  # these have to be copied in anaconda prompt"
   ]
  },
  {
   "cell_type": "code",
   "execution_count": 2,
   "id": "e4270b36-f9a5-4128-b55c-b222303e81f3",
   "metadata": {},
   "outputs": [],
   "source": [
    "# Import library\n",
    "import tabula"
   ]
  },
  {
   "cell_type": "code",
   "execution_count": 3,
   "id": "9b83a05c-65c1-4fb4-8637-d4cb6cca44db",
   "metadata": {},
   "outputs": [],
   "source": [
    "# Now you have to specify your PDF file\n",
    "pdf=\"Sales Schedule.pdf\""
   ]
  },
  {
   "cell_type": "code",
   "execution_count": 4,
   "id": "8be674a4-958f-4ad8-94c4-d949a5284747",
   "metadata": {},
   "outputs": [],
   "source": [
    "# Extract tables from the pdf\n",
    "tables = tabula.read_pdf(pdf, pages=\"all\")\n"
   ]
  },
  {
   "cell_type": "code",
   "execution_count": 5,
   "id": "72668278-fb47-4895-8297-dc8113ab30a5",
   "metadata": {},
   "outputs": [],
   "source": [
    "# you have two options now, You can extract each table into a seperate spreadsheet\n",
    "import os\n",
    "folder_name = \"tables\"\n",
    "if not os.path.isdir(folder_name):\n",
    "    os.mkdir(folder_name)\n",
    "# iterate over extracted tables and export as excel individually\n",
    "for i, table in enumerate(tables, start=1):\n",
    "    table.to_excel(os.path.join(folder_name, f\"table_{i}.xlsx\"), index=False)"
   ]
  },
  {
   "cell_type": "code",
   "execution_count": 6,
   "id": "21c9d368-25cd-4fe0-ace3-3644ecf0a7c9",
   "metadata": {
    "tags": []
   },
   "outputs": [],
   "source": [
    "# or you can extract all tables into a single csv file\n",
    "tabula.convert_into(pdf, \"Tables.csv\", output_format=\"csv\", pages=\"all\")"
   ]
  },
  {
   "cell_type": "code",
   "execution_count": null,
   "id": "6d7dff80-92db-4fb0-a141-dee201301955",
   "metadata": {},
   "outputs": [],
   "source": []
  }
 ],
 "metadata": {
  "kernelspec": {
   "display_name": "Python 3 (ipykernel)",
   "language": "python",
   "name": "python3"
  },
  "language_info": {
   "codemirror_mode": {
    "name": "ipython",
    "version": 3
   },
   "file_extension": ".py",
   "mimetype": "text/x-python",
   "name": "python",
   "nbconvert_exporter": "python",
   "pygments_lexer": "ipython3",
   "version": "3.9.7"
  }
 },
 "nbformat": 4,
 "nbformat_minor": 5
}
